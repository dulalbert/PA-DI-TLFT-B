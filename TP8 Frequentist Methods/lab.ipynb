{
 "cells": [
  {
   "attachments": {},
   "cell_type": "markdown",
   "metadata": {},
   "source": [
    "# TP8 FREQUENTIST METHODS\n",
    "Wednesday March 10, 2023\n",
    "\n",
    "## 0 Impor\n",
    "\n",
    "To install NLTK without being root, you will write\n",
    "> pip install nltk --user\n",
    "Then, to load the corpora we need, we will launch Python in interactive mode, and write:\n",
    "```python\n",
    "import nltk\n",
    "nltk.download()\n",
    "```\n",
    "In the window that will open, choose “All” in “Collections” if you don’t have quota problems, or “Book,” and click on “Donwload”. Once you have finished the operation, to exit the interactive mode, press Ctrl-D"
   ]
  },
  {
   "cell_type": "code",
   "execution_count": 25,
   "metadata": {},
   "outputs": [
    {
     "name": "stdout",
     "output_type": "stream",
     "text": [
      "showing info https://raw.githubusercontent.com/nltk/nltk_data/gh-pages/index.xml\n"
     ]
    },
    {
     "data": {
      "text/plain": [
       "True"
      ]
     },
     "execution_count": 25,
     "metadata": {},
     "output_type": "execute_result"
    }
   ],
   "source": [
    "import pandas as pd\n",
    "import random\n",
    "import collections\n",
    "import re\n",
    "import nltk\n",
    "from nltk.corpus import brown, names\n",
    "from nltk.probability import FreqDist\n",
    "\n",
    "\n",
    "nltk.download()\n",
    "\n"
   ]
  },
  {
   "attachments": {},
   "cell_type": "markdown",
   "metadata": {},
   "source": [
    "## 1 Some aspects of Brown’s corpus\n",
    "The following modules will be used:\n",
    "```python\n",
    "import nltk\n",
    "from nltk.corpus import brown\n",
    "from nltk.probability import FreqDist\n",
    "import re\n",
    "```\n",
    "Brown’s corpus tags are here : http://www.comp.leeds.ac.uk/amalgam/tagsets/brown.html.\n",
    "\n",
    "*Questions and Answers:*\n",
    "1. In Brown’s corpus, what nouns are more common in the plural than in the singular? (The plural is\n",
    "considered to be formed simply by the addition of an “s”) Classify the first 20 results by frequency of the\n",
    "plural form and by plural/singular ratio.\n",
    "2. Which word has the greatest number of distinct tags? What do they represent?\n",
    "3. List the tags in descending order of frequency (the first 20). What do they represent?\n",
    "4. What are the most frequent tags of words preceding nouns? What do they represent?\n",
    "\n"
   ]
  },
  {
   "cell_type": "code",
   "execution_count": 7,
   "metadata": {},
   "outputs": [
    {
     "name": "stdout",
     "output_type": "stream",
     "text": [
      "The Fulton County Grand Jury said Friday an investigation of Atlanta's recent primary election produced `` no evidence '' that any irregularities took place .\n",
      "The jury further said in term-end presentments that the City Executive Committee , which had over-all charge of the election , `` deserves the praise and thanks of the City of Atlanta '' for the manner in which the election was conducted .\n",
      "The September-October term jury had been charged by Fulton Superior Court Judge Durwood Pye to investigate reports of possible `` irregularities '' in the hard-fought primary which was won by Mayor-nominate Ivan Allen Jr. .\n",
      "`` Only a relative handful of such reports was received '' , the jury said , `` considering the widespread interest in the election , the number of voters and the size of this city '' .\n",
      "The jury said it did find that many of Georgia's registration and election laws `` are outmoded or inadequate and often ambiguous '' .\n"
     ]
    }
   ],
   "source": [
    "for sent in brown.sents()[:2]:\n",
    "    print(\" \".join(sent))"
   ]
  },
  {
   "cell_type": "code",
   "execution_count": 13,
   "metadata": {},
   "outputs": [],
   "source": [
    "fdist = FreqDist(brown.tagged_words())"
   ]
  },
  {
   "cell_type": "code",
   "execution_count": 28,
   "metadata": {},
   "outputs": [],
   "source": [
    "fnoun = {k[0]: v for k, v in fdist.items() if k[1] == 'NN' }\n",
    "fnouns = {k[0]: v for k, v in fdist.items() if k[1] == 'NNS' }\n",
    "\n",
    "df = pd.DataFrame(fnoun, index=['sng_count']).T\n",
    "df['plu_count'] = 0\n",
    " \n",
    "for key, value in fnouns.items():\n",
    "    if key[:-1] in df.index:\n",
    "        # print(key)\n",
    "        df.loc[key[:-1], 'plu_count'] = value\n",
    "        \n",
    "df['ratio'] = df['plu_count']/df['sng_count']"
   ]
  },
  {
   "cell_type": "code",
   "execution_count": 30,
   "metadata": {},
   "outputs": [
    {
     "data": {
      "text/html": [
       "<div>\n",
       "<style scoped>\n",
       "    .dataframe tbody tr th:only-of-type {\n",
       "        vertical-align: middle;\n",
       "    }\n",
       "\n",
       "    .dataframe tbody tr th {\n",
       "        vertical-align: top;\n",
       "    }\n",
       "\n",
       "    .dataframe thead th {\n",
       "        text-align: right;\n",
       "    }\n",
       "</style>\n",
       "<table border=\"1\" class=\"dataframe\">\n",
       "  <thead>\n",
       "    <tr style=\"text-align: right;\">\n",
       "      <th></th>\n",
       "      <th>sng_count</th>\n",
       "      <th>plu_count</th>\n",
       "      <th>ratio</th>\n",
       "    </tr>\n",
       "  </thead>\n",
       "  <tbody>\n",
       "    <tr>\n",
       "      <th>year</th>\n",
       "      <td>641</td>\n",
       "      <td>939</td>\n",
       "      <td>1.464899</td>\n",
       "    </tr>\n",
       "    <tr>\n",
       "      <th>eye</th>\n",
       "      <td>119</td>\n",
       "      <td>391</td>\n",
       "      <td>3.285714</td>\n",
       "    </tr>\n",
       "    <tr>\n",
       "      <th>day</th>\n",
       "      <td>623</td>\n",
       "      <td>376</td>\n",
       "      <td>0.603531</td>\n",
       "    </tr>\n",
       "    <tr>\n",
       "      <th>thing</th>\n",
       "      <td>326</td>\n",
       "      <td>357</td>\n",
       "      <td>1.095092</td>\n",
       "    </tr>\n",
       "    <tr>\n",
       "      <th>member</th>\n",
       "      <td>133</td>\n",
       "      <td>310</td>\n",
       "      <td>2.330827</td>\n",
       "    </tr>\n",
       "    <tr>\n",
       "      <th>hand</th>\n",
       "      <td>410</td>\n",
       "      <td>284</td>\n",
       "      <td>0.692683</td>\n",
       "    </tr>\n",
       "    <tr>\n",
       "      <th>fee</th>\n",
       "      <td>16</td>\n",
       "      <td>283</td>\n",
       "      <td>17.687500</td>\n",
       "    </tr>\n",
       "    <tr>\n",
       "      <th>word</th>\n",
       "      <td>259</td>\n",
       "      <td>268</td>\n",
       "      <td>1.034749</td>\n",
       "    </tr>\n",
       "    <tr>\n",
       "      <th>time</th>\n",
       "      <td>1547</td>\n",
       "      <td>260</td>\n",
       "      <td>0.168067</td>\n",
       "    </tr>\n",
       "    <tr>\n",
       "      <th>problem</th>\n",
       "      <td>309</td>\n",
       "      <td>239</td>\n",
       "      <td>0.773463</td>\n",
       "    </tr>\n",
       "    <tr>\n",
       "      <th>area</th>\n",
       "      <td>318</td>\n",
       "      <td>233</td>\n",
       "      <td>0.732704</td>\n",
       "    </tr>\n",
       "    <tr>\n",
       "      <th>student</th>\n",
       "      <td>108</td>\n",
       "      <td>204</td>\n",
       "      <td>1.888889</td>\n",
       "    </tr>\n",
       "    <tr>\n",
       "      <th>line</th>\n",
       "      <td>279</td>\n",
       "      <td>193</td>\n",
       "      <td>0.691756</td>\n",
       "    </tr>\n",
       "    <tr>\n",
       "      <th>minute</th>\n",
       "      <td>43</td>\n",
       "      <td>193</td>\n",
       "      <td>4.488372</td>\n",
       "    </tr>\n",
       "    <tr>\n",
       "      <th>month</th>\n",
       "      <td>130</td>\n",
       "      <td>188</td>\n",
       "      <td>1.446154</td>\n",
       "    </tr>\n",
       "    <tr>\n",
       "      <th>school</th>\n",
       "      <td>409</td>\n",
       "      <td>188</td>\n",
       "      <td>0.459658</td>\n",
       "    </tr>\n",
       "    <tr>\n",
       "      <th>value</th>\n",
       "      <td>197</td>\n",
       "      <td>182</td>\n",
       "      <td>0.923858</td>\n",
       "    </tr>\n",
       "    <tr>\n",
       "      <th>condition</th>\n",
       "      <td>86</td>\n",
       "      <td>177</td>\n",
       "      <td>2.058140</td>\n",
       "    </tr>\n",
       "    <tr>\n",
       "      <th>hour</th>\n",
       "      <td>145</td>\n",
       "      <td>173</td>\n",
       "      <td>1.193103</td>\n",
       "    </tr>\n",
       "    <tr>\n",
       "      <th>mile</th>\n",
       "      <td>42</td>\n",
       "      <td>169</td>\n",
       "      <td>4.023810</td>\n",
       "    </tr>\n",
       "  </tbody>\n",
       "</table>\n",
       "</div>"
      ],
      "text/plain": [
       "           sng_count  plu_count      ratio\n",
       "year             641        939   1.464899\n",
       "eye              119        391   3.285714\n",
       "day              623        376   0.603531\n",
       "thing            326        357   1.095092\n",
       "member           133        310   2.330827\n",
       "hand             410        284   0.692683\n",
       "fee               16        283  17.687500\n",
       "word             259        268   1.034749\n",
       "time            1547        260   0.168067\n",
       "problem          309        239   0.773463\n",
       "area             318        233   0.732704\n",
       "student          108        204   1.888889\n",
       "line             279        193   0.691756\n",
       "minute            43        193   4.488372\n",
       "month            130        188   1.446154\n",
       "school           409        188   0.459658\n",
       "value            197        182   0.923858\n",
       "condition         86        177   2.058140\n",
       "hour             145        173   1.193103\n",
       "mile              42        169   4.023810"
      ]
     },
     "execution_count": 30,
     "metadata": {},
     "output_type": "execute_result"
    }
   ],
   "source": [
    "df.sort_values('plu_count', ascending=False).head(20)"
   ]
  },
  {
   "cell_type": "code",
   "execution_count": 31,
   "metadata": {},
   "outputs": [
    {
     "data": {
      "text/html": [
       "<div>\n",
       "<style scoped>\n",
       "    .dataframe tbody tr th:only-of-type {\n",
       "        vertical-align: middle;\n",
       "    }\n",
       "\n",
       "    .dataframe tbody tr th {\n",
       "        vertical-align: top;\n",
       "    }\n",
       "\n",
       "    .dataframe thead th {\n",
       "        text-align: right;\n",
       "    }\n",
       "</style>\n",
       "<table border=\"1\" class=\"dataframe\">\n",
       "  <thead>\n",
       "    <tr style=\"text-align: right;\">\n",
       "      <th></th>\n",
       "      <th>sng_count</th>\n",
       "      <th>plu_count</th>\n",
       "      <th>ratio</th>\n",
       "    </tr>\n",
       "  </thead>\n",
       "  <tbody>\n",
       "    <tr>\n",
       "      <th>stair</th>\n",
       "      <td>2</td>\n",
       "      <td>46</td>\n",
       "      <td>23.000000</td>\n",
       "    </tr>\n",
       "    <tr>\n",
       "      <th>headquarter</th>\n",
       "      <td>1</td>\n",
       "      <td>19</td>\n",
       "      <td>19.000000</td>\n",
       "    </tr>\n",
       "    <tr>\n",
       "      <th>relative</th>\n",
       "      <td>1</td>\n",
       "      <td>19</td>\n",
       "      <td>19.000000</td>\n",
       "    </tr>\n",
       "    <tr>\n",
       "      <th>fee</th>\n",
       "      <td>16</td>\n",
       "      <td>283</td>\n",
       "      <td>17.687500</td>\n",
       "    </tr>\n",
       "    <tr>\n",
       "      <th>tear</th>\n",
       "      <td>2</td>\n",
       "      <td>32</td>\n",
       "      <td>16.000000</td>\n",
       "    </tr>\n",
       "    <tr>\n",
       "      <th>employe</th>\n",
       "      <td>1</td>\n",
       "      <td>15</td>\n",
       "      <td>15.000000</td>\n",
       "    </tr>\n",
       "    <tr>\n",
       "      <th>stockholder</th>\n",
       "      <td>2</td>\n",
       "      <td>26</td>\n",
       "      <td>13.000000</td>\n",
       "    </tr>\n",
       "    <tr>\n",
       "      <th>investor</th>\n",
       "      <td>1</td>\n",
       "      <td>11</td>\n",
       "      <td>11.000000</td>\n",
       "    </tr>\n",
       "    <tr>\n",
       "      <th>microorganism</th>\n",
       "      <td>1</td>\n",
       "      <td>11</td>\n",
       "      <td>11.000000</td>\n",
       "    </tr>\n",
       "    <tr>\n",
       "      <th>rib</th>\n",
       "      <td>1</td>\n",
       "      <td>11</td>\n",
       "      <td>11.000000</td>\n",
       "    </tr>\n",
       "    <tr>\n",
       "      <th>kenning</th>\n",
       "      <td>1</td>\n",
       "      <td>10</td>\n",
       "      <td>10.000000</td>\n",
       "    </tr>\n",
       "    <tr>\n",
       "      <th>assessor</th>\n",
       "      <td>2</td>\n",
       "      <td>19</td>\n",
       "      <td>9.500000</td>\n",
       "    </tr>\n",
       "    <tr>\n",
       "      <th>mean</th>\n",
       "      <td>12</td>\n",
       "      <td>113</td>\n",
       "      <td>9.416667</td>\n",
       "    </tr>\n",
       "    <tr>\n",
       "      <th>ill</th>\n",
       "      <td>1</td>\n",
       "      <td>9</td>\n",
       "      <td>9.000000</td>\n",
       "    </tr>\n",
       "    <tr>\n",
       "      <th>subordinate</th>\n",
       "      <td>1</td>\n",
       "      <td>9</td>\n",
       "      <td>9.000000</td>\n",
       "    </tr>\n",
       "    <tr>\n",
       "      <th>gut</th>\n",
       "      <td>1</td>\n",
       "      <td>9</td>\n",
       "      <td>9.000000</td>\n",
       "    </tr>\n",
       "    <tr>\n",
       "      <th>elder</th>\n",
       "      <td>1</td>\n",
       "      <td>9</td>\n",
       "      <td>9.000000</td>\n",
       "    </tr>\n",
       "    <tr>\n",
       "      <th>volunteer</th>\n",
       "      <td>3</td>\n",
       "      <td>25</td>\n",
       "      <td>8.333333</td>\n",
       "    </tr>\n",
       "    <tr>\n",
       "      <th>bun</th>\n",
       "      <td>1</td>\n",
       "      <td>8</td>\n",
       "      <td>8.000000</td>\n",
       "    </tr>\n",
       "    <tr>\n",
       "      <th>survivor</th>\n",
       "      <td>1</td>\n",
       "      <td>8</td>\n",
       "      <td>8.000000</td>\n",
       "    </tr>\n",
       "  </tbody>\n",
       "</table>\n",
       "</div>"
      ],
      "text/plain": [
       "               sng_count  plu_count      ratio\n",
       "stair                  2         46  23.000000\n",
       "headquarter            1         19  19.000000\n",
       "relative               1         19  19.000000\n",
       "fee                   16        283  17.687500\n",
       "tear                   2         32  16.000000\n",
       "employe                1         15  15.000000\n",
       "stockholder            2         26  13.000000\n",
       "investor               1         11  11.000000\n",
       "microorganism          1         11  11.000000\n",
       "rib                    1         11  11.000000\n",
       "kenning                1         10  10.000000\n",
       "assessor               2         19   9.500000\n",
       "mean                  12        113   9.416667\n",
       "ill                    1          9   9.000000\n",
       "subordinate            1          9   9.000000\n",
       "gut                    1          9   9.000000\n",
       "elder                  1          9   9.000000\n",
       "volunteer              3         25   8.333333\n",
       "bun                    1          8   8.000000\n",
       "survivor               1          8   8.000000"
      ]
     },
     "execution_count": 31,
     "metadata": {},
     "output_type": "execute_result"
    }
   ],
   "source": [
    "df.sort_values('ratio', ascending=False).head(20)"
   ]
  },
  {
   "cell_type": "code",
   "execution_count": 38,
   "metadata": {},
   "outputs": [],
   "source": [
    "words = {}\n",
    "for key, value in fdist.items():\n",
    "    if key[0] not in words.keys():\n",
    "        words[key[0]] = [key[1]]\n",
    "    else:\n",
    "        words[key[0]].append(key[1])"
   ]
  },
  {
   "cell_type": "code",
   "execution_count": 39,
   "metadata": {},
   "outputs": [
    {
     "data": {
      "text/plain": [
       "[('that',\n",
       "  ['CS',\n",
       "   'WPS',\n",
       "   'DT',\n",
       "   'QL',\n",
       "   'WPO',\n",
       "   'CS-HL',\n",
       "   'DT-NC',\n",
       "   'NIL',\n",
       "   'WPS-NC',\n",
       "   'WPO-NC',\n",
       "   'CS-NC',\n",
       "   'WPS-HL'])]"
      ]
     },
     "execution_count": 39,
     "metadata": {},
     "output_type": "execute_result"
    }
   ],
   "source": [
    "sorted(words.items(), key=lambda item: len(item[1]), reverse=True)[:1]"
   ]
  },
  {
   "cell_type": "code",
   "execution_count": 42,
   "metadata": {},
   "outputs": [
    {
     "data": {
      "text/plain": [
       "FreqDist({('the', 'AT'): 62288, (',', ','): 58153, ('.', '.'): 48812, ('of', 'IN'): 34864, ('and', 'CC'): 27676, ('a', 'AT'): 21824, ('in', 'IN'): 18975, ('to', 'TO'): 14679, ('to', 'IN'): 10903, ('is', 'BEZ'): 9976, ...})"
      ]
     },
     "execution_count": 42,
     "metadata": {},
     "output_type": "execute_result"
    }
   ],
   "source": [
    "fdist"
   ]
  },
  {
   "cell_type": "code",
   "execution_count": 48,
   "metadata": {},
   "outputs": [],
   "source": [
    "tags = {}\n",
    "for key, value in fdist.items():\n",
    "    # print(key[1], type(value))\n",
    "    if key[1] not in tags.keys():\n",
    "        tags[key[1]] = value\n",
    "    else:\n",
    "        tags[key[1]] += value"
   ]
  },
  {
   "cell_type": "code",
   "execution_count": 50,
   "metadata": {},
   "outputs": [
    {
     "data": {
      "text/plain": [
       "[('NN', 152470),\n",
       " ('IN', 120557),\n",
       " ('AT', 97959),\n",
       " ('JJ', 64028),\n",
       " ('.', 60638),\n",
       " (',', 58156),\n",
       " ('NNS', 55110),\n",
       " ('CC', 37718),\n",
       " ('RB', 36464),\n",
       " ('NP', 34476),\n",
       " ('VB', 33693),\n",
       " ('VBN', 29186),\n",
       " ('VBD', 26167),\n",
       " ('CS', 22143),\n",
       " ('PPS', 18253),\n",
       " ('VBG', 17893),\n",
       " ('PP$', 16872),\n",
       " ('TO', 14918),\n",
       " ('PPSS', 13802),\n",
       " ('CD', 13510)]"
      ]
     },
     "execution_count": 50,
     "metadata": {},
     "output_type": "execute_result"
    }
   ],
   "source": [
    "sorted(tags.items(), key=lambda item: item[1], reverse=True)[:20]"
   ]
  },
  {
   "cell_type": "code",
   "execution_count": 57,
   "metadata": {},
   "outputs": [
    {
     "data": {
      "text/plain": [
       "1161192"
      ]
     },
     "execution_count": 57,
     "metadata": {},
     "output_type": "execute_result"
    }
   ],
   "source": [
    "len(brown.tagged_words())"
   ]
  },
  {
   "cell_type": "code",
   "execution_count": null,
   "metadata": {},
   "outputs": [],
   "source": [
    "before = {}\n",
    "for i, (word, tag) in enumerate(brown.tagged_words()):\n",
    "    if tag in ['NN', 'NNS', 'NN$']:\n",
    "        # print(i, word, tag)\n",
    "        if brown.tagged_words()[i-1][1] not in before.keys():\n",
    "            before[brown.tagged_words()[i-1][1]] = 1\n",
    "        else:\n",
    "            before[brown.tagged_words()[i-1][1]] += 1\n",
    "            \n",
    "    if (i+1)%11611==0:\n",
    "        print(1161192/i, '%')"
   ]
  },
  {
   "cell_type": "code",
   "execution_count": null,
   "metadata": {},
   "outputs": [],
   "source": [
    "sorted(before.items(), key=lambda item: item[1], reverse=True)"
   ]
  },
  {
   "attachments": {},
   "cell_type": "markdown",
   "metadata": {},
   "source": [
    "## 2 Evaluation of taggers\n",
    "### 2.1 POS-based POS tags\n",
    "In this section we will create taggers (the default tagger is nltk.DefaultTagger and the n-grams tagger1, nltk.NgramTagger), and we will train them using the news category from Brown’s corpus.\n",
    "\n",
    "Evaluate taggers at n-grams (for n = 0, . . . , 6) by performing a tenfold cross-validation, with andwithout backoff.\n",
    "\n",
    "Evaluate the same taggers with the simplified tag set."
   ]
  },
  {
   "cell_type": "code",
   "execution_count": 75,
   "metadata": {},
   "outputs": [
    {
     "name": "stderr",
     "output_type": "stream",
     "text": [
      "/var/folders/1d/g2nb11rn0gqg20js1nqct1r40000gn/T/ipykernel_27995/1244578707.py:8: DeprecationWarning: \n",
      "  Function evaluate() has been deprecated.  Use accuracy(gold)\n",
      "  instead.\n",
      "  default_eval = tagger[0].evaluate(brown_tagged_sentences)\n"
     ]
    },
    {
     "name": "stdout",
     "output_type": "stream",
     "text": [
      "WITHOUT BACKOFF:\n",
      "0-grams: 0.13089484257215028\n"
     ]
    },
    {
     "name": "stderr",
     "output_type": "stream",
     "text": [
      "/var/folders/1d/g2nb11rn0gqg20js1nqct1r40000gn/T/ipykernel_27995/1244578707.py:21: DeprecationWarning: \n",
      "  Function evaluate() has been deprecated.  Use accuracy(gold)\n",
      "  instead.\n",
      "  evaluation[N] += tagger[N].evaluate(test_sents)\n"
     ]
    },
    {
     "name": "stdout",
     "output_type": "stream",
     "text": [
      "1-grams: 0.8080819695613455\n",
      "2-grams: 0.10119360136867109\n",
      "3-grams: 0.06322356284065468\n",
      "4-grams: 0.05693468572955782\n",
      "5-grams: 0.0556768020684553\n",
      "6-grams: 0.05560703003714816\n",
      "WITH BACKOFF:\n",
      "0-grams: 0.13089484257215028\n"
     ]
    },
    {
     "name": "stderr",
     "output_type": "stream",
     "text": [
      "/var/folders/1d/g2nb11rn0gqg20js1nqct1r40000gn/T/ipykernel_27995/1244578707.py:37: DeprecationWarning: \n",
      "  Function evaluate() has been deprecated.  Use accuracy(gold)\n",
      "  instead.\n",
      "  evaluationbo[N] += tagger[N].evaluate(test_sents)\n"
     ]
    },
    {
     "name": "stdout",
     "output_type": "stream",
     "text": [
      "1-grams: 0.8313895367184309\n",
      "2-grams: 0.9323461243091057\n",
      "3-grams: 0.9561272040718384\n",
      "4-grams: 0.9651135405091452\n",
      "5-grams: 0.9730581836102621\n",
      "6-grams: 0.9774925936360294\n"
     ]
    }
   ],
   "source": [
    "brown_tagged_sentences = brown.tagged_sents(categories='news')\n",
    "brown_sentences = brown.sents(categories='news')\n",
    "tagger = [0,0,0,0,0,0,0,0]\n",
    "\n",
    "tags = [t for (w,t) in brown.tagged_words(categories='news')]\n",
    "maxtag = nltk.FreqDist(tags).max()\n",
    "tagger[0] = nltk.DefaultTagger(maxtag)\n",
    "default_eval = tagger[0].evaluate(brown_tagged_sentences)\n",
    "test_size = int(len(brown_tagged_sentences) * 0.1)\n",
    "evaluation = [default_eval,0,0,0,0,0,0,0]\n",
    "print(\"WITHOUT BACKOFF:\")\n",
    "print(\"0-grams: \" + str(default_eval))\n",
    "for N in range(1,7):\n",
    "   for C in range(10):\n",
    "      if C==0:\n",
    "         train_sents = brown_tagged_sentences[(C+1)*test_size:]\n",
    "      else:\n",
    "         train_sents = brown_tagged_sentences[:C*test_size] + brown_tagged_sentences[(C+1)*test_size:]\n",
    "      test_sents = brown_tagged_sentences[C*test_size:(C+1)*test_size]\n",
    "      tagger[N] = nltk.NgramTagger(N,train=train_sents)\n",
    "      evaluation[N] += tagger[N].evaluate(test_sents)\n",
    "   evaluation[N] /= 10\n",
    "   print(str(N) + \"-grams: \" + str(evaluation[N]))\n",
    "   \n",
    "evaluationbo=[default_eval,0,0,0,0,0,0,0]\n",
    "\n",
    "print(\"WITH BACKOFF:\")\n",
    "print(\"0-grams: \" + str(default_eval))\n",
    "for N in range(1,7):\n",
    "   for C in range(10):\n",
    "      if C==0:\n",
    "         train_sents = brown_tagged_sentences[(C+1)*test_size:]\n",
    "      else:\n",
    "         train_sents = brown_tagged_sentences[:C*test_size] + brown_tagged_sentences[(C+1)*test_size:]\n",
    "      test_sents = brown_tagged_sentences[C*test_size:(C+1)*test_size]\n",
    "      tagger[N] = nltk.NgramTagger(N,train=train_sents,backoff=tagger[N-1])\n",
    "      evaluationbo[N] += tagger[N].evaluate(test_sents)\n",
    "   evaluationbo[N] /= 10\n",
    "   print(str(N) + \"-grams: \" + str(evaluationbo[N]))"
   ]
  },
  {
   "cell_type": "code",
   "execution_count": 81,
   "metadata": {},
   "outputs": [
    {
     "data": {
      "image/png": "[encoded data removed]",
      "text/plain": [
       "<Figure size 640x480 with 1 Axes>"
      ]
     },
     "metadata": {},
     "output_type": "display_data"
    }
   ],
   "source": [
    "import matplotlib.pyplot as plt \n",
    "\n",
    "plt.plot(range(7), evaluation[:-1], '-bo')\n",
    "plt.plot(range(7), evaluationbo[:-1], '-ro')\n",
    "plt.title('Performance of n-gram taggers for n=0,...,6')\n",
    "plt.xlabel('n of n-grams')\n",
    "plt.ylabel('performance')\n",
    "plt.show()"
   ]
  },
  {
   "attachments": {},
   "cell_type": "markdown",
   "metadata": {},
   "source": [
    "## 2.2 Given name gender tags based on intrinsic properties\n",
    "In this section we will use modules\n",
    "```py\n",
    "import nltk\n",
    "from nltk.corpus import names\n",
    "import random\n",
    "import collections\n",
    "```\n",
    "\n",
    "The names corpus consists of two files, female.txt and male.txt. Create a list of tuples (given name, gender) in a random order. Count the epicene mixed first names.\n",
    "\n",
    "In the previous section we used words and tags. Here we will adopt a more general approach: we will define properties and we will evaluate the contribution of these properties to the classification task (in our case: the gender of a given name). \n",
    "\n",
    "**First candidate property:** the last letter.\n",
    "```py\n",
    "def gender_features(word):\n",
    "    return {'last_letter': word[-1]}\n",
    "\n",
    "featuresets = [(gender_features(n), g) for (n,g) in names]\n",
    "train_set, test_set = featuresets[500:], featuresets[:500]\n",
    "classifier = nltk.NaiveBayesClassifier.train(train_set)\n",
    "print(nltk.classify.accuracy(classifier, test_set))\n",
    "```\n",
    "\n",
    "What we get is accuracy. Calculate also the precision, recall and F-measure for each gender (use the homonymous methods of nltk.metrics, beware: to use these methods you have to gather the numbers of given names in lists, according to their rankings and their true gender). What do we find?\n",
    "\n",
    "Using the method show_most_informative_features(10) of classify, we can find out the values of properties having the most discriminating power.\n",
    "\n",
    "To have ideas of new properties to attempt, write the code that will display all the classification errors with, for each one, the correct class, the badly selected class and the name.\n",
    "\n",
    "Test other properties and their combinations."
   ]
  },
  {
   "cell_type": "code",
   "execution_count": 20,
   "metadata": {},
   "outputs": [],
   "source": [
    "male_names = names.words('male.txt')\n",
    "female_names = names.words('female.txt')"
   ]
  },
  {
   "cell_type": "code",
   "execution_count": 52,
   "metadata": {},
   "outputs": [
    {
     "name": "stdout",
     "output_type": "stream",
     "text": [
      "0.81\n"
     ]
    }
   ],
   "source": [
    "def gender_features(word):\n",
    "    return {'last_letter': word[-1]}\n",
    "\n",
    "male_names = names.words('male.txt')\n",
    "female_names = names.words('female.txt')\n",
    "Names = [(name, 'male') for name in male_names]\n",
    "Names.extend([(name, 'female') for name in female_names])\n",
    "random.shuffle(Names)\n",
    "\n",
    "featuresets = [(gender_features(n), g) for (n, g) in Names]\n",
    "train_set, test_set = featuresets[500:], featuresets[:500]\n",
    "classifier = nltk.NaiveBayesClassifier.train(train_set)\n",
    "\n",
    "print(nltk.classify.accuracy(classifier, test_set))"
   ]
  },
  {
   "cell_type": "code",
   "execution_count": 61,
   "metadata": {},
   "outputs": [],
   "source": [
    "predictions = classifier.classify_many([value[0] for value in test_set])\n",
    "labels = [value[1] for value in test_set]"
   ]
  },
  {
   "cell_type": "code",
   "execution_count": 74,
   "metadata": {},
   "outputs": [
    {
     "name": "stdout",
     "output_type": "stream",
     "text": [
      "0.7241379310344828\n",
      "0.8558282208588958\n",
      "0.7283236994219653\n",
      "0.8532110091743119\n",
      "0.7262247838616714\n",
      "0.8545176110260336\n"
     ]
    }
   ],
   "source": [
    "from sklearn.metrics import *\n",
    "\n",
    "\n",
    "\n",
    "print(precision_score(predictions, labels, average=\"binary\", pos_label=\"male\"))\n",
    "print(precision_score(predictions, labels, average=\"binary\", pos_label=\"female\"))\n",
    "print(recall_score(predictions, labels, average=\"binary\", pos_label=\"male\"))\n",
    "print(recall_score(predictions, labels, average=\"binary\", pos_label=\"female\"))\n",
    "\n",
    "print(f1_score(predictions, labels, average=\"binary\", pos_label=\"male\"))\n",
    "print(f1_score(predictions, labels, average=\"binary\", pos_label=\"female\"))"
   ]
  },
  {
   "attachments": {},
   "cell_type": "markdown",
   "metadata": {},
   "source": [
    "### 2.3 Return to POS, combined approach (intrinsic properties + n-grams)\n",
    "\n",
    "In Section 2.1 we have created taggers trained on words as well as on a number of previous word tags. In Section 2.2 we have (for another classification task: it was not a matter of classifying by POS but only by gender) used intrinsic properties of words (described by regular expressions). In this section we will combine the two approaches for POS computation.\n",
    "\n",
    "Let us start by creating a POS classifier based only on intrinsic properties of words: 1-, 2- and 3-suffixes.\n",
    "\n",
    "What accuracy do we get?"
   ]
  },
  {
   "cell_type": "code",
   "execution_count": null,
   "metadata": {},
   "outputs": [],
   "source": []
  },
  {
   "attachments": {},
   "cell_type": "markdown",
   "metadata": {},
   "source": [
    "Next, let us add more properties :\n",
    "1. the current word,\n",
    "2. the previous word,\n",
    "3. the current word and the previous word,\n",
    "4. 1–3 as well as the tag of the previous word, as predicted by the classifier,\n",
    "5. idem but with the tags of the two previous words (as separate properties).\n",
    "   \n",
    "How does the performance of the classifier evolve?\n",
    "To store the predicted tags, we can use a history list (at the level of each sentence)"
   ]
  },
  {
   "cell_type": "code",
   "execution_count": null,
   "metadata": {},
   "outputs": [],
   "source": [
    "\n"
   ]
  },
  {
   "attachments": {},
   "cell_type": "markdown",
   "metadata": {},
   "source": [
    "## 3 Chunking, chinking\n",
    "\n",
    "In the following we will do chunking by writing grammars. This will help us with an important branch of text mining, information extraction. We are going to get pronominal and verbal chunks, and by looking for patterns of chunks we will do relation extraction.\n",
    "\n",
    "First of all, let us use the Regexp Chunk Parser App interface to practice writing regular expressions in order to describe chunks. The application gives us in real time, the values of accuracy, recall and F-measure obtained.\n",
    "\n",
    "It gets displayed when we type\n",
    "```python\n",
    "import nltk\n",
    "nltk.app.chunkparser()\n",
    "```\n",
    "\n",
    "Here is how to apply such a grammar, with chunk labels if necessary, to a small sentence: the/DT little/JJ yellow/JJ dog/NN barked/VBD at/IN the/DT cat/NN. We instantiate a parser by providing it with a grammar: it will therefore read the word tags and form chunks according to the grammar.\n",
    "```python\n",
    "import nltk, re\n",
    "sentence = [(\"the\", \"DT\"), (\"little\", \"JJ\"), (\"yellow\", \"JJ\"),\n",
    "(\"dog\", \"NN\"), (\"barked\", \"VBD\"), (\"at\", \"IN\"), (\"the\", \"DT\"), (\"cat\", \"NN\")]\n",
    "grammar = r\"NP: {<DT>?<JJ>*<NN>}\"\n",
    "cp = nltk.RegexpParser(grammar)\n",
    "result = cp.parse(sentence)\n",
    "print(result)\n",
    "result.draw()\n",
    "```"
   ]
  },
  {
   "cell_type": "code",
   "execution_count": null,
   "metadata": {},
   "outputs": [],
   "source": []
  },
  {
   "attachments": {},
   "cell_type": "markdown",
   "metadata": {},
   "source": [
    "### 3.1 Evaluation of chunkers\n",
    "\n",
    "The corpus conll2000 contains chunked sentences from the Wall Street Journal. It is already divided into a training set and a test set (files train.txt and test.txt).\n",
    "\n",
    "We will start with an NP chunker based on a grammar as in the previous section:\n",
    "```py\n",
    "from nltk.corpus import conll2000\n",
    "cp = nltk.RegexpParser(\"\")\n",
    "test_sents = conll2000.chunked_sents('test.txt', chunk_types=['NP'])\n",
    "print(cp.evaluate(test_sents))\n",
    "```\n",
    "Execute it. How do you explain the result obtained? Write some rules to improve the result.\n",
    "Another solution is to train a chunker. One can, for example, define\n",
    "```py\n",
    "class UnigramChunker(nltk.ChunkParserI):\n",
    "    def __init__(self, train_sents):\n",
    "        train_data = [[(t,c) for w,t,c in nltk.chunk.tree2conlltags(sent)]\n",
    "        for sent in train_sents]\n",
    "            self.tagger = nltk.UnigramTagger(train_data)\n",
    "    def parse(self, sentence):\n",
    "        pos_tags = [pos for (word,pos) in sentence]\n",
    "        tagged_pos_tags = self.tagger.tag(pos_tags)\n",
    "        chunktags = [chunktag for (pos, chunktag) in tagged_pos_tags]\n",
    "        conlltags = [(word, pos, chunktag) for ((word,pos),chunktag) in zip(sentence, chunktags)]\n",
    "        return nltk.chunk.util.conlltags2tree(conlltags)\n",
    "```\n",
    "\n",
    "Here, conlltags2tree (and its inverse tree2conlltags) are used to switch from the IOB format of ConLL2000 to the tree format and vice versa.\n",
    "\n",
    "Does this chunker involve words? Why is it a “unigram” tagger? Evaluate it, using the train.txt and test.txt files.\n",
    "\n",
    "Write bigram and trigram taggers (without backoff, alas...) and compare the results."
   ]
  },
  {
   "cell_type": "markdown",
   "metadata": {},
   "source": []
  }
 ],
 "metadata": {
  "kernelspec": {
   "display_name": "Python 3",
   "language": "python",
   "name": "python3"
  },
  "language_info": {
   "codemirror_mode": {
    "name": "ipython",
    "version": 3
   },
   "file_extension": ".py",
   "mimetype": "text/x-python",
   "name": "python",
   "nbconvert_exporter": "python",
   "pygments_lexer": "ipython3",
   "version": "3.8.13"
  },
  "orig_nbformat": 4,
  "vscode": {
   "interpreter": {
    "hash": "142b32352f70a12bcf58087609adf49e97561f4f7f7a90dd0fd710f9b41b69e7"
   }
  }
 },
 "nbformat": 4,
 "nbformat_minor": 2
}
