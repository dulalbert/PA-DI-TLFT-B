{
 "cells": [
  {
   "cell_type": "code",
   "execution_count": 1,
   "metadata": {},
   "outputs": [],
   "source": [
    "from owlready2 import *\n",
    "import rdflib\n",
    "import rdflib.plugins.sparql as sparql"
   ]
  },
  {
   "cell_type": "code",
   "execution_count": 32,
   "metadata": {},
   "outputs": [],
   "source": [
    "onto = get_ontology(\"data/wildlife-en.xml\").load()\n",
    "# default_world.graph.dump()"
   ]
  },
  {
   "cell_type": "code",
   "execution_count": 40,
   "metadata": {},
   "outputs": [],
   "source": [
    "graph = default_world.as_rdflib_graph()\n",
    "query = sparql.prepareQuery(\"\"\"\n",
    "                            PREFIX rdf: <http://www.w3.org/1999/02/22-rdf-syntax-ns#>\n",
    "                            PREFIX me: <file:wildlife-en.xml#>\n",
    "                            SELECT ?b WHERE {\n",
    "                            ?b rdf:type me:lion .\n",
    "                            }\n",
    "\"\"\")\n",
    "qres = graph.query(query)"
   ]
  },
  {
   "cell_type": "code",
   "execution_count": 35,
   "metadata": {},
   "outputs": [
    {
     "name": "stdout",
     "output_type": "stream",
     "text": [
      "<rdflib.plugins.sparql.processor.SPARQLResult object at 0x10d4ee9a0>\n",
      "(rdflib.term.URIRef('file:wildlife.owl#Léo'),)\n"
     ]
    }
   ],
   "source": [
    "print(qres)\n",
    "for v in qres:\n",
    "    print(v)"
   ]
  },
  {
   "cell_type": "code",
   "execution_count": 36,
   "metadata": {},
   "outputs": [],
   "source": [
    "def into_owlready(x):\n",
    "    global onto\n",
    "    if (str(type(x))==\"<class 'rdflib.term.URIRef'>\"):\n",
    "        r = onto.search(iri=str(x))\n",
    "        if r:\n",
    "            return r\n",
    "        else:\n",
    "            return None\n",
    "    else:\n",
    "        return None"
   ]
  },
  {
   "cell_type": "code",
   "execution_count": 45,
   "metadata": {},
   "outputs": [
    {
     "data": {
      "text/plain": [
       "[wildlife-new.animal]"
      ]
     },
     "execution_count": 45,
     "metadata": {},
     "output_type": "execute_result"
    }
   ],
   "source": [
    "into_owlready(rdflib.term.URIRef('file:wildlife.owl#animal'))"
   ]
  },
  {
   "cell_type": "code",
   "execution_count": 44,
   "metadata": {},
   "outputs": [
    {
     "name": "stdout",
     "output_type": "stream",
     "text": [
      "(rdflib.term.URIRef('file:wildlife.owl#plant'), None)\n",
      "(rdflib.term.URIRef('file:wildlife.owl#edible-plant'), None)\n",
      "(rdflib.term.URIRef('file:wildlife.owl#plant'), None)\n",
      "(rdflib.term.URIRef('file:wildlife.owl#edible-plant'), None)\n"
     ]
    }
   ],
   "source": [
    "onto = get_ontology(\"data/wildlife-new.owl\").load()\n",
    "#sync_reasoner([onto])\n",
    "graph = default_world.as_rdflib_graph()\n",
    "q = sparql.prepareQuery(\"\"\"\n",
    "PREFIX rdf: <http://www.w3.org/1999/02/22-rdf-syntax-ns#>\n",
    "PREFIX rdfs: <http://www.w3.org/2000/01/rdf-schema#>\n",
    "PREFIX me: <file:wildlife-en.xml#>\n",
    "PREFIX owl: <http://www.w3.org/2002/07/owl#>\n",
    "SELECT ?b ?x WHERE { \n",
    "?b rdf:type owl:Class .\n",
    "FILTER ( regex(str(?b),\".*plant\") )\n",
    "}\"\"\")\n",
    "qres = graph.query(q)\n",
    "    \n",
    "for v in qres:\n",
    "    print(v)"
   ]
  },
  {
   "cell_type": "code",
   "execution_count": 48,
   "metadata": {},
   "outputs": [
    {
     "name": "stdout",
     "output_type": "stream",
     "text": [
      "(rdflib.term.URIRef('file:wildlife.owl#Gigi'),)\n",
      "(rdflib.term.URIRef('file:wildlife.owl#Gigi'),)\n",
      "(rdflib.term.URIRef('file:wildlife.owl#Giginou'),)\n",
      "(rdflib.term.URIRef('file:wildlife.owl#Giginou'),)\n",
      "(rdflib.term.URIRef('file:wildlife.owl#Léo'),)\n",
      "(rdflib.term.URIRef('file:wildlife.owl#Léo'),)\n",
      "(rdflib.term.URIRef('file:wildlife.owl#Gigi'),)\n",
      "(rdflib.term.URIRef('file:wildlife.owl#Gigi'),)\n",
      "(rdflib.term.URIRef('file:wildlife.owl#Giginou'),)\n",
      "(rdflib.term.URIRef('file:wildlife.owl#Giginou'),)\n",
      "(rdflib.term.URIRef('file:wildlife.owl#Léo'),)\n",
      "(rdflib.term.URIRef('file:wildlife.owl#Léo'),)\n"
     ]
    }
   ],
   "source": [
    "onto = get_ontology(\"data/wildlife-new.owl\").load()\n",
    "#sync_reasoner([onto])\n",
    "graph = default_world.as_rdflib_graph()\n",
    "q = sparql.prepareQuery(\n",
    "    \"\"\"\n",
    "    PREFIX rdf: <http://www.w3.org/1999/02/22-rdf-syntax-ns#>\n",
    "    PREFIX owl: <http://www.w3.org/2002/07/owl#>\n",
    "    PREFIX rdfs: <http://www.w3.org/2000/01/rdf-schema#>\n",
    "    PREFIX me: <file:wildlife.owl#>\n",
    "    SELECT ?b WHERE {\n",
    "    ?x rdfs:subClassOf* me:animal .\n",
    "    ?b rdf:type ?x .\n",
    "    ?b rdf:type owl:NamedIndividual .\n",
    "    }\n",
    "    \"\"\"\n",
    ")\n",
    "qres = graph.query(q)\n",
    "    \n",
    "for v in qres:\n",
    "    print(v)"
   ]
  },
  {
   "cell_type": "code",
   "execution_count": 60,
   "metadata": {},
   "outputs": [],
   "source": [
    "q = sparql.prepareQuery(\n",
    "    \"\"\"\n",
    "    PREFIX rdf: <http://www.w3.org/1999/02/22-rdf-syntax-ns#>\n",
    "    PREFIX owl: <http://www.w3.org/2002/07/owl#>\n",
    "    PREFIX rdfs: <http://www.w3.org/2000/01/rdf-schema#>\n",
    "    PREFIX me: <file:wildlife.owl#>\n",
    "    SELECT ?b WHERE {\n",
    "    ?x rdfs:subClassOf* me:animals .\n",
    "    ?b rdf:type ?x .\n",
    "    ?b rdf:type owl:NamedIndividual .\n",
    "    }\n",
    "    \"\"\"\n",
    ")\n",
    "qres = graph.query(q)\n",
    "    \n",
    "for v in qres:\n",
    "    print(v)"
   ]
  },
  {
   "cell_type": "markdown",
   "metadata": {},
   "source": []
  },
  {
   "cell_type": "code",
   "execution_count": 2,
   "metadata": {},
   "outputs": [],
   "source": [
    "def into_owlready(x):\n",
    "    global onto\n",
    "    if (str(type(x))==\"<class 'rdflib.term.URIRef'>\"):\n",
    "        r = onto.search(iri=str(x))\n",
    "        if r:\n",
    "            return r\n",
    "        else:\n",
    "            return None\n",
    "    else:\n",
    "        return None"
   ]
  },
  {
   "cell_type": "code",
   "execution_count": 3,
   "metadata": {},
   "outputs": [],
   "source": [
    "def build_SPARQL_query(classe):\n",
    "    return \"\"\"\n",
    "PREFIX rdf: <http://www.w3.org/1999/02/22-rdf-syntax-ns#>\n",
    "PREFIX owl: <http://www.w3.org/2002/07/owl#>\n",
    "PREFIX rdfs: <http://www.w3.org/2000/01/rdf-schema#>\n",
    "PREFIX me: <file:wildlife.owl#>\n",
    "SELECT ?b WHERE {\n",
    "?x rdfs:subClassOf* me:%s .\n",
    "?b rdf:type ?x .\n",
    "?b rdf:type owl:NamedIndividual .\n",
    "}\"\"\" % classe"
   ]
  },
  {
   "cell_type": "code",
   "execution_count": 5,
   "metadata": {},
   "outputs": [],
   "source": [
    "onto = get_ontology(\"data/wildlife-new.owl\").load()\n",
    "graph = default_world.as_rdflib_graph()"
   ]
  },
  {
   "cell_type": "code",
   "execution_count": 31,
   "metadata": {},
   "outputs": [],
   "source": [
    "def what_are_the_(classeName):\n",
    "    query = sparql.prepareQuery(\n",
    "        build_SPARQL_query(classeName[:-1])\n",
    "    )\n",
    "    response = graph.query(query)\n",
    "    response = [v for v in response]\n",
    "    if len(response) == 0:\n",
    "        return \"There is no {}.\".format(classeName[:-1])\n",
    "    elif len(response) == 1:\n",
    "        name = str(into_owlready(response[0][0])[0]).split('.')[-1]\n",
    "        return \"There is a single {}. It is {}.\".format(classeName[:-1], name)\n",
    "    else:\n",
    "        names = [str(into_owlready(resp[0])[0]).split('.')[-1] for resp in response]\n",
    "        return \"There are {} {}. They are {}.\".format(len(response), classeName, \", \".join(names))\n",
    "        \n"
   ]
  },
  {
   "cell_type": "code",
   "execution_count": 32,
   "metadata": {},
   "outputs": [
    {
     "name": "stdout",
     "output_type": "stream",
     "text": [
      "There are 3 animals. They are Gigi, Giginou, Léo.\n",
      "There is a single lion. It is Léo.\n"
     ]
    }
   ],
   "source": [
    "print(what_are_the_(\"animals\"))\n",
    "print(what_are_the_(\"lions\"))"
   ]
  },
  {
   "cell_type": "code",
   "execution_count": 33,
   "metadata": {},
   "outputs": [],
   "source": [
    "def is_a(name, classeName):\n",
    "    query = sparql.prepareQuery(\n",
    "        build_SPARQL_query(classeName)\n",
    "    )\n",
    "    response = graph.query(query)\n",
    "    response = [v for v in response]\n",
    "    if len(response) > 0:\n",
    "        names = [str(into_owlready(resp[0])[0]).split('.')[-1] for resp in response]\n",
    "        if name in names:\n",
    "            return \"Yes.\"        \n",
    "    return \"No.\"  \n",
    "    "
   ]
  },
  {
   "cell_type": "code",
   "execution_count": 34,
   "metadata": {},
   "outputs": [
    {
     "name": "stdout",
     "output_type": "stream",
     "text": [
      "Yes.\n",
      "No.\n"
     ]
    }
   ],
   "source": [
    "print(is_a('Léo', 'lion'))\n",
    "print(is_a('Gigi', 'lion'))"
   ]
  },
  {
   "cell_type": "code",
   "execution_count": null,
   "metadata": {},
   "outputs": [],
   "source": [
    "def what_do_we_know_about(name):\n",
    "    \n",
    "    \n",
    "\n",
    "    return \"{} is a {}. It weights {}kg and its size is {}m.\".format(name, className, weight, size)\n",
    "\n",
    "(As well as other pieces of information such that “It eats XXX”"
   ]
  }
 ],
 "metadata": {
  "kernelspec": {
   "display_name": "Python 3",
   "language": "python",
   "name": "python3"
  },
  "language_info": {
   "codemirror_mode": {
    "name": "ipython",
    "version": 3
   },
   "file_extension": ".py",
   "mimetype": "text/x-python",
   "name": "python",
   "nbconvert_exporter": "python",
   "pygments_lexer": "ipython3",
   "version": "3.8.13"
  },
  "orig_nbformat": 4
 },
 "nbformat": 4,
 "nbformat_minor": 2
}
